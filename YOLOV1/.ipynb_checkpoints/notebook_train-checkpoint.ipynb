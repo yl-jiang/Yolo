{
 "cells": [
  {
   "cell_type": "code",
   "execution_count": null,
   "metadata": {},
   "outputs": [],
   "source": [
    "from Yolo.V1.configs import opt\n",
    "from Yolo.V1 import VocDataset\n",
    "from torch.utils.data import DataLoader\n",
    "from tqdm import tqdm\n",
    "from Yolo.V1.models.trainer import YoloV1Trainer"
   ]
  },
  {
   "cell_type": "code",
   "execution_count": null,
   "metadata": {},
   "outputs": [],
   "source": [
    "\n",
    "def train():\n",
    "    dataset = VocDataset(is_train=True)\n",
    "    dataset_loader = DataLoader(dataset, batch_size=opt.batch_size, shuffle=False, num_workers=opt.num_workers)\n",
    "\n",
    "    trainer = YoloV1Trainer()\n",
    "    net = trainer.yolo\n",
    "    for epoch in range(opt.num_epoch):\n",
    "        for i, (img, target) in tqdm(enumerate(dataset_loader)):\n",
    "            img, target = img.to(opt.device), target.to(opt.device)\n",
    "            loss = trainer.train_step(img, target)\n",
    "\n",
    "        if epoch % opt.eval_every == 0:\n",
    "            eval(net)\n",
    "\n",
    "\n",
    "def eval(net):\n",
    "    testset = VocDataset(is_train=False)\n",
    "    testset_loader = DataLoader(testset, batch_size=opt.batch_size, shuffle=False, num_workers=opt.num_workers)\n",
    "    net.eval()\n",
    "    for i, (img, target) in tqdm(enumerate(testset_loader)):\n",
    "        img, target = img.to(opt.device), target.to(opt.device)\n",
    "        pre = net(img).view(opt.batch_size, opt.S, opt.S, -1)\n",
    "\n",
    "    net.train()"
   ]
  }
 ],
 "metadata": {
  "kernelspec": {
   "display_name": "Python 3",
   "language": "python",
   "name": "python3"
  },
  "language_info": {
   "codemirror_mode": {
    "name": "ipython",
    "version": 3
   },
   "file_extension": ".py",
   "mimetype": "text/x-python",
   "name": "python",
   "nbconvert_exporter": "python",
   "pygments_lexer": "ipython3",
   "version": "3.6.8"
  }
 },
 "nbformat": 4,
 "nbformat_minor": 2
}
