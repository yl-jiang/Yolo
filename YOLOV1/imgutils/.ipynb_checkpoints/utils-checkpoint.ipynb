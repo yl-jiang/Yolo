{
 "cells": [
  {
   "cell_type": "code",
   "execution_count": null,
   "metadata": {},
   "outputs": [],
   "source": [
    "import random\n",
    "import numpy as np\n",
    "import cv2"
   ]
  },
  {
   "cell_type": "code",
   "execution_count": null,
   "metadata": {},
   "outputs": [],
   "source": [
    "def resize_bbox(bbox, in_size, out_size):\n",
    "    # bbox:(1,4)\n",
    "    # 因为对图片预处理时对图片进行了缩放，那么之前人工标注的BoundingBox也必须按照等比例缩放\n",
    "    y_scale = float(out_size[0] / in_size[0])\n",
    "    x_scale = float(out_size[1] / in_size[1])\n",
    "\n",
    "    bbox[:, 0] = bbox[:, 0] * y_scale\n",
    "    bbox[:, 1] = bbox[:, 1] * x_scale\n",
    "    bbox[:, 2] = bbox[:, 2] * y_scale\n",
    "    bbox[:, 3] = bbox[:, 3] * x_scale\n",
    "\n",
    "    return bbox"
   ]
  },
  {
   "cell_type": "code",
   "execution_count": null,
   "metadata": {},
   "outputs": [],
   "source": [
    "def random_flip(img, horizontal_flip=False, vertical_flip=False, return_flip=False):\n",
    "    import random\n",
    "    horizontal, vertical = False, False\n",
    "    if horizontal_flip:\n",
    "        horizontal = random.choice([False, True])\n",
    "    if vertical_flip:\n",
    "        vertical = random.choice([False, True])\n",
    "\n",
    "    if horizontal:\n",
    "        img = img[:, ::-1, :]\n",
    "    if vertical:\n",
    "        img = img[:, :, ::-1]\n",
    "\n",
    "    if return_flip:\n",
    "        return img, {'horizontal': horizontal, 'vertical': vertical}\n",
    "    else:\n",
    "        return img"
   ]
  },
  {
   "cell_type": "code",
   "execution_count": null,
   "metadata": {},
   "outputs": [],
   "source": [
    "def flip_bbox(bbox, img_size, horizontal=False, vertical=False):\n",
    "    h, w = img_size\n",
    "    bbox = bbox.copy()  # 深复制\n",
    "    if horizontal:  # 水平翻转横坐标不变\n",
    "        y1 = h - bbox[:, 0]\n",
    "        y2 = h - bbox[:, 2]\n",
    "        bbox[:, 0] = y1\n",
    "        bbox[:, 2] = y2\n",
    "    if vertical:  # 垂直翻转纵坐标不变\n",
    "        x1 = w - bbox[:, 1]\n",
    "        x2 = w - bbox[:, 3]\n",
    "        bbox[:, 1] = x1\n",
    "        bbox[:, 3] = x2\n",
    "\n",
    "    return bbox"
   ]
  },
  {
   "cell_type": "code",
   "execution_count": null,
   "metadata": {},
   "outputs": [],
   "source": [
    "def encode_bbox(bbox, label, img_size, S, B, C):\n",
    "    \"\"\"\n",
    "\n",
    "    :param bbox: (1,4)/ndarray\n",
    "    :param label: (1,)/ndarray\n",
    "    :param img_size: (1,2)/[448,448]\n",
    "    :param S: 7\n",
    "    :param B: 2\n",
    "    :param C: 20\n",
    "    :return:\n",
    "    \"\"\"\n",
    "    import numpy as np\n",
    "    target = np.zeros((S, S, B * 5 + C))\n",
    "    center_y = (bbox[:, 0] + bbox[:, 2]) / 2\n",
    "    center_x = (bbox[:, 1] + bbox[:, 3]) / 2\n",
    "    h = bbox[:, 2] - bbox[:, 0]\n",
    "    w = bbox[:, 3] - bbox[:, 1]\n",
    "    cell_size = img_size[0] / S\n",
    "\n",
    "    # gt_bbox中心点相对于img左上角的偏移量\n",
    "    y = center_y / img_size[0]\n",
    "    x = center_x / img_size[0]\n",
    "\n",
    "    # gt_bbox中心点在单元格中的坐标\n",
    "    cell_y = center_y / cell_size\n",
    "    cell_x = center_x / cell_size\n",
    "\n",
    "    # 找到gt_bbox中心点落于哪个单元格\n",
    "    row = int(cell_y)\n",
    "    col = int(cell_x)\n",
    "\n",
    "    # gt_bbox中心点相对于所在单元格左上角的偏移量\n",
    "    cell_scale_y = cell_y - row\n",
    "    cell_scale_x = cell_x - col\n",
    "\n",
    "    h_in_img = h / img_size[0]\n",
    "    w_in_img = w / img_size[1]\n",
    "\n",
    "    trans_coor = [y, x, h_in_img, w_in_img]\n",
    "\n",
    "    target[row, col, [4, 9]] = [1., 1.]\n",
    "    target[row, col, :4] = trans_coor\n",
    "    target[row, col, 5:9] = trans_coor\n",
    "    target[row, col, 9+label[0]] = 1.\n",
    "\n",
    "    y_true = {\"target\": target,  # (7,7,30)/ndarray\n",
    "              \"gt_cell_index\": [row, col],  # gt_bbox中心点在单元格中的位置\n",
    "              \"gt_center\": [center_y, center_x],  # gt_bbox中心点坐标\n",
    "              \"gt_hw\": [h, w],  # gt_bbox的长宽\n",
    "              \"gt_center_scale\": [cell_scale_y, cell_scale_x]  # gt_bbox中心点坐标与所在单元格左上角的偏移量\n",
    "              }\n",
    "    return y_true"
   ]
  },
  {
   "cell_type": "code",
   "execution_count": null,
   "metadata": {},
   "outputs": [],
   "source": [
    "def bbox_iou(bbox_a, bbox_b):\n",
    "    \"\"\"\n",
    "\n",
    "    :param bbox_a: (7,7,30)\n",
    "    :param bbox_b: (7,7,30)\n",
    "    :return:\n",
    "    \"\"\"\n",
    "\n"
   ]
  },
  {
   "cell_type": "code",
   "execution_count": null,
   "metadata": {},
   "outputs": [],
   "source": [
    "def images_db(file_path):\n",
    "    f = open(file_path, 'r')\n",
    "    file_names = list()\n",
    "    bboxes = list()\n",
    "    labels = list()\n",
    "    for line in f.readlines():\n",
    "        splits = line.strip().split()\n",
    "        file_names.append(splits[0])\n",
    "        num_obj = int(len(splits[1:]) / 5)\n",
    "        bbox = []\n",
    "        label = []\n",
    "        for i in range(num_obj):\n",
    "            bbox.append([int(splits[5*i+1]), int(splits[5*i+2]), int(splits[5*i+3]), int(splits[5*i+4])])\n",
    "            label.append(int(splits[5*i+5]))\n",
    "        bboxes.append(bbox)\n",
    "        labels.append(label)\n",
    "    return file_names, np.array(bboxes), np.array(labels)"
   ]
  },
  {
   "cell_type": "code",
   "execution_count": null,
   "metadata": {},
   "outputs": [],
   "source": [
    "def BGR2RGB(img):\n",
    "    return cv2.cvtColor(img, cv2.COLOR_BGR2RGB)"
   ]
  }
 ],
 "metadata": {
  "kernelspec": {
   "display_name": "Python 3",
   "language": "python",
   "name": "python3"
  },
  "language_info": {
   "codemirror_mode": {
    "name": "ipython",
    "version": 3
   },
   "file_extension": ".py",
   "mimetype": "text/x-python",
   "name": "python",
   "nbconvert_exporter": "python",
   "pygments_lexer": "ipython3",
   "version": "3.6.8"
  }
 },
 "nbformat": 4,
 "nbformat_minor": 2
}
