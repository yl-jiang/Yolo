{
 "cells": [
  {
   "cell_type": "code",
   "execution_count": null,
   "metadata": {},
   "outputs": [],
   "source": [
    "import os\n",
    "import numpy as np\n",
    "from PIL import Image\n",
    "import random\n",
    "from bs4 import BeautifulSoup\n",
    "from Yolo.V1.configs import opt\n",
    "import lxml"
   ]
  },
  {
   "cell_type": "code",
   "execution_count": null,
   "metadata": {},
   "outputs": [],
   "source": [
    "VOC_BBOX_LABEL_NAMES = ('aeroplane', 'bicycle', 'bird', 'boat', 'bottle',\n",
    "                        'bus', 'car', 'cat', 'chair', 'cow',\n",
    "                        'diningtable', 'dog', 'horse', 'motorbike', 'person',\n",
    "                        'pottedplant', 'sheep', 'sofa', 'train', 'tvmonitor')"
   ]
  },
  {
   "cell_type": "code",
   "execution_count": null,
   "metadata": {},
   "outputs": [],
   "source": [
    "def read_image(path, dtype=np.float32, color=True):\n",
    "    f = Image.open(path)\n",
    "    try:\n",
    "        if color:\n",
    "            img = f.convert('RGB')\n",
    "        else:\n",
    "            img = f.convert('P')\n",
    "        img = np.asarray(img, dtype=dtype)\n",
    "    finally:\n",
    "        if hasattr(f, 'close'):\n",
    "            f.close()\n",
    "\n",
    "    if img.ndim == 2:  # 灰度图片\n",
    "        # reshape (H, W) -> (1, H, W)\n",
    "        return img[np.newaxis]\n",
    "    else:   # 彩色图片\n",
    "        # transpose (H, W, C) -> (C, H, W)\n",
    "        return img.transpose((2, 0, 1))"
   ]
  },
  {
   "cell_type": "code",
   "execution_count": null,
   "metadata": {},
   "outputs": [],
   "source": [
    "def parse_voc2012_xml(xml_file):\n",
    "    one_file_bboxes = []\n",
    "    one_file_labels = []\n",
    "    bs = BeautifulSoup(open(xml_file), 'lxml')\n",
    "    img_file_name = bs.find('filename').string\n",
    "    for obj in bs.find_all('object'):\n",
    "        diffcult = int(obj.find('difficult').string)\n",
    "        if diffcult == 1:\n",
    "            continue\n",
    "        name = obj.find('name').string\n",
    "        label = VOC_BBOX_LABEL_NAMES.index(name)\n",
    "\n",
    "        y1 = int(float(obj.find('ymax').string))\n",
    "        x1 = int(float(obj.find('xmax').string))\n",
    "        y2 = int(float(obj.find('ymin').string))\n",
    "        x2 = int(float(obj.find('xmin').string))\n",
    "        one_file_bboxes.append([y1, x1, y2, x2])\n",
    "        one_file_labels.append(label)\n",
    "\n",
    "    return img_file_name, one_file_bboxes, one_file_labels"
   ]
  },
  {
   "cell_type": "code",
   "execution_count": null,
   "metadata": {},
   "outputs": [],
   "source": [
    "def parse_write_xml(voc_data_dir, write_train, write_test):\n",
    "    AnnotationsPath = os.path.join(voc_data_dir, 'Annotations')\n",
    "    xml_fils = os.listdir(AnnotationsPath)\n",
    "    write_train = open(write_train, 'a')\n",
    "    write_test = open(write_test, 'a')\n",
    "    for f in xml_fils:\n",
    "        xml_path = os.path.join(AnnotationsPath, f)\n",
    "        img_file_name, bboxes, labels = parse_voc2012_xml(xml_path)\n",
    "        if random.random() >= 0.15:\n",
    "            write_f = write_train\n",
    "        else:\n",
    "            write_f = write_test\n",
    "        write_f.write(img_file_name)\n",
    "        for bbox, label in zip(bboxes, labels):\n",
    "            write_f.write(' '+str(bbox[0])+' '+str(bbox[1])+' '+str(bbox[2])+' '+str(bbox[3])+' '+str(label))\n",
    "        write_f.write('\\n')\n",
    "    write_train.close()\n",
    "    write_test.close()"
   ]
  }
 ],
 "metadata": {
  "kernelspec": {
   "display_name": "Python 3",
   "language": "python",
   "name": "python3"
  },
  "language_info": {
   "codemirror_mode": {
    "name": "ipython",
    "version": 3
   },
   "file_extension": ".py",
   "mimetype": "text/x-python",
   "name": "python",
   "nbconvert_exporter": "python",
   "pygments_lexer": "ipython3",
   "version": "3.6.8"
  }
 },
 "nbformat": 4,
 "nbformat_minor": 2
}
